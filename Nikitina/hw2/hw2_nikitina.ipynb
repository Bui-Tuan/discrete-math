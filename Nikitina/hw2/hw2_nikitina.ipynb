{
  "nbformat": 4,
  "nbformat_minor": 0,
  "metadata": {
    "colab": {
      "name": "hw2_nikitina.ipynb",
      "provenance": [],
      "toc_visible": true,
      "authorship_tag": "ABX9TyMxlo6ReYKQQEHdUDLjiHM6",
      "include_colab_link": true
    },
    "kernelspec": {
      "name": "python3",
      "display_name": "Python 3"
    },
    "language_info": {
      "name": "python"
    }
  },
  "cells": [
    {
      "cell_type": "markdown",
      "metadata": {
        "id": "view-in-github",
        "colab_type": "text"
      },
      "source": [
        "<a href=\"https://colab.research.google.com/github/ksenia312/discrete-math/blob/main/Nikitina/hw2/hw2_nikitina.ipynb\" target=\"_parent\"><img src=\"https://colab.research.google.com/assets/colab-badge.svg\" alt=\"Open In Colab\"/></a>"
      ]
    },
    {
      "cell_type": "markdown",
      "source": [
        "##**Домашняя работа**\n",
        "---\n"
      ],
      "metadata": {
        "id": "d0Mk0NOTvggo"
      }
    },
    {
      "cell_type": "code",
      "source": [
        "import numpy as np"
      ],
      "metadata": {
        "id": "_YSehq48OnF8"
      },
      "execution_count": null,
      "outputs": []
    },
    {
      "cell_type": "markdown",
      "source": [
        "###**Этап 1:** Реализация \n",
        "---\n",
        "Написать объединятор(u), пересекатор(i/p), вычитатор(s/-) и дополнятор(a) множеств."
      ],
      "metadata": {
        "id": "i3_Wgf5nKRWj"
      }
    },
    {
      "cell_type": "markdown",
      "source": [
        "####Функции для вывода\n",
        "---"
      ],
      "metadata": {
        "id": "JdBHRslmQF9B"
      }
    },
    {
      "cell_type": "code",
      "source": [
        "def printSet(S):\n",
        "  if len(S)>0:\n",
        "    print(*S, sep=' ', end='')\n",
        "  else:\n",
        "     print(\"\\u2205\")"
      ],
      "metadata": {
        "id": "KVcwr4aYQFfS"
      },
      "execution_count": null,
      "outputs": []
    },
    {
      "cell_type": "code",
      "source": [
        "def printSets(arr):\n",
        "  for s in arr:\n",
        "    print(*s if s else '\\u2205')"
      ],
      "metadata": {
        "id": "YUGgqrt7nfQb"
      },
      "execution_count": null,
      "outputs": []
    },
    {
      "cell_type": "markdown",
      "source": [
        "####Объединение (u)\n",
        "---"
      ],
      "metadata": {
        "id": "MeiCbFY3-As1"
      }
    },
    {
      "cell_type": "code",
      "source": [
        "def union(F, arr):\n",
        "  res = set(F)\n",
        "  for i in arr:\n",
        "    res|=i\n",
        "  return res"
      ],
      "metadata": {
        "id": "rpLEX21V-KTT"
      },
      "execution_count": null,
      "outputs": []
    },
    {
      "cell_type": "markdown",
      "source": [
        "####Пересечение (i/p)\n",
        "---"
      ],
      "metadata": {
        "id": "2q5UEoV42ccB"
      }
    },
    {
      "cell_type": "code",
      "source": [
        "def intersection(F, arr):\n",
        "  res = set(F)\n",
        "  for i in arr:\n",
        "    res&=i\n",
        "  res = {} if len(arr) == 0 else res\n",
        "  return res"
      ],
      "metadata": {
        "id": "PcPh6YQq3BvC"
      },
      "execution_count": null,
      "outputs": []
    },
    {
      "cell_type": "markdown",
      "source": [
        "####Вычитание (s/-)\n",
        "---\n",
        "Из первого вычитаются остальные"
      ],
      "metadata": {
        "id": "u2WoXGUu_34m"
      }
    },
    {
      "cell_type": "code",
      "source": [
        "def subtraction(F, arr):\n",
        "  res = set(F)\n",
        "  for i in arr:\n",
        "    res-=i\n",
        "  return res"
      ],
      "metadata": {
        "id": "8fYja7XyAPgj"
      },
      "execution_count": null,
      "outputs": []
    },
    {
      "cell_type": "markdown",
      "source": [
        "####Дополнение множества 1 до множества 2 (a)\n",
        "---"
      ],
      "metadata": {
        "id": "DzBEvgdZPg9H"
      }
    },
    {
      "cell_type": "code",
      "source": [
        "def addition(F, arr):\n",
        "  return arr[0]-F"
      ],
      "metadata": {
        "id": "lvML6P02SFyO"
      },
      "execution_count": null,
      "outputs": []
    },
    {
      "cell_type": "markdown",
      "source": [
        "####Исключающее или (e)\n",
        "---"
      ],
      "metadata": {
        "id": "EaBlEA6fA4vz"
      }
    },
    {
      "cell_type": "code",
      "source": [
        "def exclusiveOr(F, arr):\n",
        "  un = union(F, arr)\n",
        "  inter = intersection(F, arr)\n",
        "  return un-inter"
      ],
      "metadata": {
        "id": "QL7AXYyyBIcr"
      },
      "execution_count": null,
      "outputs": []
    },
    {
      "cell_type": "markdown",
      "source": [
        "####Функции для ввода множеств и вызова операций\n",
        "---"
      ],
      "metadata": {
        "id": "GyghPLGFL79q"
      }
    },
    {
      "cell_type": "code",
      "source": [
        "def toСorrectSet(entered):\n",
        "    try:\n",
        "      S = list(map(int, entered.split()))\n",
        "      if sorted(S) != sorted(list(set(S))):\n",
        "          print('Ваш ввод {', end='')\n",
        "          print(*S, sep=', ', end='')\n",
        "          S = set(S)\n",
        "          print('} преобразован в', S)\n",
        "          return set(S)\n",
        "      else:\n",
        "          return set(S)\n",
        "    except:\n",
        "      print('Неверный ввод')\n",
        " "
      ],
      "metadata": {
        "id": "yi6x5tmOv3OM"
      },
      "execution_count": null,
      "outputs": []
    },
    {
      "cell_type": "code",
      "source": [
        "def useProcessor():\n",
        "  sets, rez = [], {}\n",
        "  while True:\n",
        "    entered = input()\n",
        "    if entered.isalpha() or entered == '-':\n",
        "        break\n",
        "    else:\n",
        "        correctSet = toСorrectSet(entered)\n",
        "        if type(correctSet) == set:\n",
        "          sets.append(correctSet)   \n",
        "\n",
        "  if len(sets) < 2:\n",
        "    print(\"Множеств должно быть как минимум 2\")\n",
        "    return\n",
        "\n",
        "  F = sets.pop(0)\n",
        "  if entered == 'u':\n",
        "    rez = union(F, sets)\n",
        "  elif entered == 'i' or entered == 'p':\n",
        "    rez = intersection(F, sets)\n",
        "  elif entered == 's' or entered == '-':\n",
        "    rez = subtraction(F, sets)\n",
        "  elif entered == 'a':\n",
        "    rez = addition(F, sets)\n",
        "  elif entered == 'e':\n",
        "    rez = exclusiveOr(F, sets)\n",
        "  else:\n",
        "    print('Такой операции нет')\n",
        "  printSet(rez)"
      ],
      "metadata": {
        "id": "YAkspJu3NHPj"
      },
      "execution_count": null,
      "outputs": []
    },
    {
      "cell_type": "markdown",
      "source": [
        "###**Этап 1:**  Ввести множества и операцию\n",
        "---"
      ],
      "metadata": {
        "id": "blU9vXKw0ISS"
      }
    },
    {
      "cell_type": "markdown",
      "source": [
        "Введите \n",
        "\n",
        "*    множество **1** \n",
        "*    множество **2** \n",
        "*    множество **3** \n",
        "\n",
        "**. . .**\n",
        "*    множество **n**, где **n > 1**\n",
        "*   **операцию**, которую хотите выполнить\n",
        "\n",
        "в формате:\n",
        "\n",
        ">```\n",
        ">#Example\n",
        ">1 2 3 5 6\n",
        ">4 5 6\n",
        ">6 7\n",
        ">u\n",
        ">```\n",
        "\n",
        "\n",
        "*Примечание 1*: для ввода пустого множества просто нажмите **Enter**\n",
        "\n",
        "\n",
        "*Примечание 2*: для **дополнений** корректно **только** 2 множества\n",
        "\n"
      ],
      "metadata": {
        "id": "up_TGzIC1BZU"
      }
    },
    {
      "cell_type": "code",
      "source": [
        "useProcessor()"
      ],
      "metadata": {
        "id": "508rmVAR100K",
        "colab": {
          "base_uri": "https://localhost:8080/"
        },
        "outputId": "316a9aeb-da65-45d5-e454-db6323e0c98a"
      },
      "execution_count": null,
      "outputs": [
        {
          "output_type": "stream",
          "name": "stdout",
          "text": [
            "1 2 3\n",
            "4 5 6\n",
            "7 8 9 0\n",
            "u\n",
            "0 1 2 3 4 5 6 7 8 9"
          ]
        }
      ]
    },
    {
      "cell_type": "code",
      "source": [
        "useProcessor()"
      ],
      "metadata": {
        "colab": {
          "base_uri": "https://localhost:8080/"
        },
        "id": "nBRZ_G6EaQwi",
        "outputId": "b1172308-c995-40aa-b7e3-042af4fdd711"
      },
      "execution_count": null,
      "outputs": [
        {
          "output_type": "stream",
          "name": "stdout",
          "text": [
            "1 3 4 5 7 8 9\n",
            "1 4 5 7\n",
            "3 4 5 7\n",
            "i\n",
            "4 5 7"
          ]
        }
      ]
    },
    {
      "cell_type": "code",
      "source": [
        "useProcessor()"
      ],
      "metadata": {
        "colab": {
          "base_uri": "https://localhost:8080/"
        },
        "id": "e20dq8BEaR0U",
        "outputId": "25fa1548-2ef0-4add-ad4e-1960e3eca5c8"
      },
      "execution_count": null,
      "outputs": [
        {
          "output_type": "stream",
          "name": "stdout",
          "text": [
            "1 3 4 5 6 8 9 11\n",
            "2 4\n",
            "4 5 6\n",
            "-\n",
            "1 3 8 9 11"
          ]
        }
      ]
    },
    {
      "cell_type": "code",
      "source": [
        "useProcessor()"
      ],
      "metadata": {
        "id": "pgVH_UctaSS7",
        "colab": {
          "base_uri": "https://localhost:8080/"
        },
        "outputId": "f2efc3b0-0250-41ac-877a-c149ae6c7dba"
      },
      "execution_count": null,
      "outputs": [
        {
          "output_type": "stream",
          "name": "stdout",
          "text": [
            "1 2 3 4 5 6 7\n",
            "1 2 3 4 5 6 7 8 9\n",
            "a\n",
            "8 9"
          ]
        }
      ]
    },
    {
      "cell_type": "code",
      "source": [
        "useProcessor()"
      ],
      "metadata": {
        "colab": {
          "base_uri": "https://localhost:8080/"
        },
        "id": "35W-7Uzp59C4",
        "outputId": "6fc9731b-3a95-431f-f2de-d4f666436299"
      },
      "execution_count": null,
      "outputs": [
        {
          "output_type": "stream",
          "name": "stdout",
          "text": [
            "1 2 3 4 5 \n",
            "5 6 7 8 9\n",
            "4 5 11\n",
            "e\n",
            "1 2 3 4 6 7 8 9 11"
          ]
        }
      ]
    },
    {
      "cell_type": "markdown",
      "source": [
        "###**Этап 2:** Реализация \n",
        "---\n",
        "Написать генератор булеанов данного числового множества"
      ],
      "metadata": {
        "id": "Hz9U7bLZMSMg"
      }
    },
    {
      "cell_type": "code",
      "source": [
        "def to_list_of_binary(n, list_len):\n",
        "    res = ''\n",
        "    while n > 0:\n",
        "        res = str(n % 2) + res\n",
        "        n = n // 2\n",
        "    if len(res) < list_len:\n",
        "        res = ''.join(['0' for _ in range(list_len - len(res))]) + res\n",
        "    return [int(k) for k in list(res)]\n",
        "\n",
        "def sortByLen(S:set):\n",
        "        return len(S)\n",
        "\n",
        "def boolean(S:set):\n",
        "    length = len(S)\n",
        "    S = list(S)\n",
        "    subsets = []\n",
        "    for decimalMask in range(2 ** length):\n",
        "        mask = to_list_of_binary(decimalMask, length)\n",
        "        subset = []\n",
        "        for i in range(0, length):\n",
        "            if mask[i]:\n",
        "                subset.append(S[i])\n",
        "        if subset:\n",
        "          subsets.append(set(subset))\n",
        "        else:\n",
        "          subsets.append({})\n",
        "    subsets.sort(key=sortByLen)\n",
        "    print('Исходное: ', *set(S), '\\n')    \n",
        "    printSets(subsets) "
      ],
      "metadata": {
        "id": "mlILrADPKOjv"
      },
      "execution_count": null,
      "outputs": []
    },
    {
      "cell_type": "markdown",
      "source": [
        "###**Этап 2:** Ввести множество\n",
        "---"
      ],
      "metadata": {
        "id": "-ZqAhcdPnFfY"
      }
    },
    {
      "cell_type": "code",
      "source": [
        "A = toСorrectSet(input())"
      ],
      "metadata": {
        "id": "t29NqP6RLlPF",
        "colab": {
          "base_uri": "https://localhost:8080/"
        },
        "outputId": "2632ab0e-24a2-46f0-fee6-72edb6c361f0"
      },
      "execution_count": null,
      "outputs": [
        {
          "name": "stdout",
          "output_type": "stream",
          "text": [
            "1 3 5 6\n"
          ]
        }
      ]
    },
    {
      "cell_type": "code",
      "source": [
        "boolean(A)"
      ],
      "metadata": {
        "id": "cMMkQZqjNn3O",
        "colab": {
          "base_uri": "https://localhost:8080/"
        },
        "outputId": "1170aa57-9f93-4b79-d3c1-118397826a58"
      },
      "execution_count": null,
      "outputs": [
        {
          "output_type": "stream",
          "name": "stdout",
          "text": [
            "Исходное:  1 3 5 6 \n",
            "\n",
            "∅\n",
            "6\n",
            "5\n",
            "3\n",
            "1\n",
            "5 6\n",
            "3 6\n",
            "3 5\n",
            "1 6\n",
            "1 5\n",
            "1 3\n",
            "3 5 6\n",
            "1 5 6\n",
            "1 3 6\n",
            "1 3 5\n",
            "1 3 5 6\n"
          ]
        }
      ]
    }
  ]
}